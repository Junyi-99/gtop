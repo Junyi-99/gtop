{
 "cells": [
  {
   "cell_type": "code",
   "execution_count": 1,
   "metadata": {},
   "outputs": [
    {
     "data": {
      "text/html": [
       "<pre style=\"white-space:pre;overflow-x:auto;line-height:normal;font-family:Menlo,'DejaVu Sans Mono',consolas,'Courier New',monospace\">┏━━━━━━━━━━━━━━┳━━━━━━━━━━━━━━━━━━━━━━━━━━━━━━━━━━━┳━━━━━━━━━━━━━━━━━━━┳━━━━━━━━━━━━━━━━┓\n",
       "┃<span style=\"color: #800080; text-decoration-color: #800080; font-weight: bold\"> Date         </span>┃<span style=\"color: #800080; text-decoration-color: #800080; font-weight: bold\"> Title                             </span>┃<span style=\"color: #800080; text-decoration-color: #800080; font-weight: bold\"> Production Budget </span>┃<span style=\"color: #800080; text-decoration-color: #800080; font-weight: bold\">     Box Office </span>┃\n",
       "┡━━━━━━━━━━━━━━╇━━━━━━━━━━━━━━━━━━━━━━━━━━━━━━━━━━━╇━━━━━━━━━━━━━━━━━━━╇━━━━━━━━━━━━━━━━┩\n",
       "│<span style=\"color: #7f7f7f; text-decoration-color: #7f7f7f\"> Dec 20, 2019 </span>│ Star Wars: The Rise of Skywalker  │      $275,000,000 │   $375,126,118 │\n",
       "│<span style=\"color: #7f7f7f; text-decoration-color: #7f7f7f\"> May 25, 2018 </span>│ <span style=\"color: #800000; text-decoration-color: #800000\">Solo</span>: A Star Wars Story           │      $275,000,000 │   $393,151,347 │\n",
       "│<span style=\"color: #7f7f7f; text-decoration-color: #7f7f7f\"> Dec 15, 2017 </span>│ Star Wars Ep. VIII: The Last Jedi │      $262,000,000 │ <span style=\"font-weight: bold\">$1,332,539,889</span> │\n",
       "└──────────────┴───────────────────────────────────┴───────────────────┴────────────────┘\n",
       "</pre>\n"
      ],
      "text/plain": [
       "┏━━━━━━━━━━━━━━┳━━━━━━━━━━━━━━━━━━━━━━━━━━━━━━━━━━━┳━━━━━━━━━━━━━━━━━━━┳━━━━━━━━━━━━━━━━┓\n",
       "┃\u001b[1;35m \u001b[0m\u001b[1;35mDate        \u001b[0m\u001b[1;35m \u001b[0m┃\u001b[1;35m \u001b[0m\u001b[1;35mTitle                            \u001b[0m\u001b[1;35m \u001b[0m┃\u001b[1;35m \u001b[0m\u001b[1;35mProduction Budget\u001b[0m\u001b[1;35m \u001b[0m┃\u001b[1;35m \u001b[0m\u001b[1;35m    Box Office\u001b[0m\u001b[1;35m \u001b[0m┃\n",
       "┡━━━━━━━━━━━━━━╇━━━━━━━━━━━━━━━━━━━━━━━━━━━━━━━━━━━╇━━━━━━━━━━━━━━━━━━━╇━━━━━━━━━━━━━━━━┩\n",
       "│\u001b[2m \u001b[0m\u001b[2mDec 20, 2019\u001b[0m\u001b[2m \u001b[0m│ Star Wars: The Rise of Skywalker  │      $275,000,000 │   $375,126,118 │\n",
       "│\u001b[2m \u001b[0m\u001b[2mMay 25, 2018\u001b[0m\u001b[2m \u001b[0m│ \u001b[31mSolo\u001b[0m: A Star Wars Story           │      $275,000,000 │   $393,151,347 │\n",
       "│\u001b[2m \u001b[0m\u001b[2mDec 15, 2017\u001b[0m\u001b[2m \u001b[0m│ Star Wars Ep. VIII: The Last Jedi │      $262,000,000 │ \u001b[1m$1,332,539,889\u001b[0m │\n",
       "└──────────────┴───────────────────────────────────┴───────────────────┴────────────────┘\n"
      ]
     },
     "metadata": {},
     "output_type": "display_data"
    }
   ],
   "source": [
    "from rich.console import Console\n",
    "from rich.table import Column, Table\n",
    "\n",
    "console = Console()\n",
    "\n",
    "table = Table(show_header=True, header_style=\"bold magenta\")\n",
    "table.add_column(\"Date\", style=\"dim\", width=12)\n",
    "table.add_column(\"Title\")\n",
    "table.add_column(\"Production Budget\", justify=\"right\")\n",
    "table.add_column(\"Box Office\", justify=\"right\")\n",
    "table.add_row(\n",
    "    \"Dec 20, 2019\", \"Star Wars: The Rise of Skywalker\", \"$275,000,000\", \"$375,126,118\"\n",
    ")\n",
    "table.add_row(\n",
    "    \"May 25, 2018\",\n",
    "    \"[red]Solo[/red]: A Star Wars Story\",\n",
    "    \"$275,000,000\",\n",
    "    \"$393,151,347\",\n",
    ")\n",
    "table.add_row(\n",
    "    \"Dec 15, 2017\",\n",
    "    \"Star Wars Ep. VIII: The Last Jedi\",\n",
    "    \"$262,000,000\",\n",
    "    \"[bold]$1,332,539,889[/bold]\",\n",
    ")\n",
    "\n",
    "console.print(table)"
   ]
  },
  {
   "cell_type": "code",
   "execution_count": 1,
   "metadata": {},
   "outputs": [
    {
     "data": {
      "application/vnd.jupyter.widget-view+json": {
       "model_id": "474491c0f1b14a6780aca82656a7fbfb",
       "version_major": 2,
       "version_minor": 0
      },
      "text/plain": [
       "Output()"
      ]
     },
     "metadata": {},
     "output_type": "display_data"
    }
   ],
   "source": [
    "from time import sleep\n",
    "\n",
    "from rich.columns import Columns\n",
    "from rich.panel import Panel\n",
    "from rich.live import Live\n",
    "from rich.text import Text\n",
    "from rich.spinner import Spinner, SPINNERS\n",
    "\n",
    "all_spinners = Columns(\n",
    "    [\n",
    "        Spinner(spinner_name, text=Text(repr(spinner_name), style=\"green\"))\n",
    "        for spinner_name in sorted(SPINNERS)\n",
    "    ],\n",
    "    column_first=True,\n",
    "    expand=True,\n",
    ")\n",
    "\n",
    "with Live(\n",
    "    Panel(all_spinners, title=\"Spinners\", border_style=\"blue\"),\n",
    "    refresh_per_second=20,\n",
    ") as live:\n",
    "    while True:\n",
    "        sleep(0.1)"
   ]
  },
  {
   "cell_type": "code",
   "execution_count": 1,
   "metadata": {},
   "outputs": [
    {
     "data": {
      "application/vnd.jupyter.widget-view+json": {
       "model_id": "bc87ebdac6924895ae00b8afe2d069e5",
       "version_major": 2,
       "version_minor": 0
      },
      "text/plain": [
       "Output()"
      ]
     },
     "metadata": {},
     "output_type": "display_data"
    }
   ],
   "source": [
    "\"\"\"\n",
    "\n",
    "Demonstrates the use of multiple Progress instances in a single Live display.    \n",
    "\n",
    "\"\"\"\n",
    "\n",
    "from time import sleep\n",
    "\n",
    "from rich.live import Live\n",
    "from rich.panel import Panel\n",
    "from rich.progress import Progress, SpinnerColumn, BarColumn, TextColumn\n",
    "from rich.table import Table\n",
    "\n",
    "\n",
    "job_progress = Progress(\n",
    "    \"{task.description}\",\n",
    "    SpinnerColumn(),\n",
    "    BarColumn(),\n",
    "    TextColumn(\"[progress.percentage]{task.percentage:>3.0f}%\"),\n",
    ")\n",
    "job1 = job_progress.add_task(\"[green]Cooking\")\n",
    "job2 = job_progress.add_task(\"[magenta]Baking\", total=200)\n",
    "job3 = job_progress.add_task(\"[cyan]Mixing\", total=400)\n",
    "\n",
    "total = sum(task.total for task in job_progress.tasks)\n",
    "\n",
    "overall_progress = Progress()\n",
    "overall_task = overall_progress.add_task(\"All Jobs\", total=int(total))\n",
    "\n",
    "progress_table = Table.grid()\n",
    "progress_table.add_row(\n",
    "    Panel.fit(\n",
    "        overall_progress, title=\"All GPUs\", border_style=\"green\", padding=(2, 2)\n",
    "    ),\n",
    "    Panel.fit(job_progress, title=\"[b]Jobs\", border_style=\"red\", padding=(1, 2)),\n",
    ")\n",
    "\n",
    "with Live(progress_table, refresh_per_second=10):\n",
    "    while not overall_progress.finished:\n",
    "        sleep(0.1)\n",
    "        for job in job_progress.tasks:\n",
    "            if not job.finished:\n",
    "                job_progress.advance(job.id)\n",
    "\n",
    "        completed = sum(task.completed for task in job_progress.tasks)\n",
    "        overall_progress.update(overall_task, completed=completed)"
   ]
  }
 ],
 "metadata": {
  "kernelspec": {
   "display_name": "base",
   "language": "python",
   "name": "python3"
  },
  "language_info": {
   "codemirror_mode": {
    "name": "ipython",
    "version": 3
   },
   "file_extension": ".py",
   "mimetype": "text/x-python",
   "name": "python",
   "nbconvert_exporter": "python",
   "pygments_lexer": "ipython3",
   "version": "3.10.9"
  },
  "orig_nbformat": 4
 },
 "nbformat": 4,
 "nbformat_minor": 2
}

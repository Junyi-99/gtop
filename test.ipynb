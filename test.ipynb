{
 "cells": [
  {
   "cell_type": "code",
   "execution_count": 2,
   "metadata": {},
   "outputs": [],
   "source": [
    "from pynvml import *\n",
    "nvmlInit()"
   ]
  },
  {
   "cell_type": "code",
   "execution_count": 4,
   "metadata": {},
   "outputs": [
    {
     "data": {
      "text/plain": [
       "'530.41.03'"
      ]
     },
     "execution_count": 4,
     "metadata": {},
     "output_type": "execute_result"
    }
   ],
   "source": [
    "nvmlSystemGetDriverVersion()"
   ]
  },
  {
   "cell_type": "code",
   "execution_count": 6,
   "metadata": {},
   "outputs": [],
   "source": [
    "deviceCount = nvmlDeviceGetCount()"
   ]
  },
  {
   "cell_type": "code",
   "execution_count": 69,
   "metadata": {},
   "outputs": [
    {
     "name": "stdout",
     "output_type": "stream",
     "text": [
      "Device 0 : NVIDIA A100-SXM4-80GB\n",
      "Device 0 : 5.7/80.0 GB, 74 GB free\n",
      "Device 0 : c_nvmlUtilization_t(gpu: 0 %, memory: 0 %)\n",
      "Device 0 : Power Usage 71.324 W\n",
      "Device 0 : Temp 31 °C\n",
      "Device 0 : PCI nvmlPciInfo_t(busIdLegacy: 0000:01:00.0, domain: 0x00000000, bus: 0x01, device: 0x00, pciDeviceId: 0x20B210DE, pciSubSystemId: 0x147F10DE, busId: 00000000:01:00.0)\n",
      "Device 0 : Compute Process [<pynvml.nvmlFriendlyObject object at 0x7ff4a01f46a0>]\n",
      "Device 0 : Graphic Process []\n",
      "Device 0 : [<pynvml.c_nvmlProcessUtilizationSample_t object at 0x7ff48852bac0>]\n",
      "Device 0 : Shutdown temp 92\n",
      "Device 0 : Slowdown temp 89\n",
      "Device 0 : Memory temp 95 to slow down\n",
      "Device 0 : Energy consumption 7200.178687 kJoule\n",
      "Device 0 : PCI-E speed 16.0 Gbps\n",
      "Device 0 : PCIE TX: 0.0 MB\n",
      "Device 0 : PCIE RX: 0.0 MB\n",
      "Device 0 : PCIE Link Width: 16 %\n",
      "Device 0 : PCIE Link Gen: 4 %\n",
      "Device 0 : Gpu Cores: 6912\n",
      "Device 0 : Gpu Clock: 1275/1410 MHz\n",
      "Device 0 : Memory Clock: 1593/1593 MHz\n",
      "Device 0 : SM Clock: 1275/1410 MHz\n",
      "Device 1 : NVIDIA A100-SXM4-80GB\n",
      "Device 1 : 0.8/80.0 GB, 79 GB free\n",
      "Device 1 : c_nvmlUtilization_t(gpu: 0 %, memory: 0 %)\n",
      "Device 1 : Power Usage 59.851 W\n",
      "Device 1 : Temp 29 °C\n",
      "Device 1 : PCI nvmlPciInfo_t(busIdLegacy: 0000:41:00.0, domain: 0x00000000, bus: 0x41, device: 0x00, pciDeviceId: 0x20B210DE, pciSubSystemId: 0x147F10DE, busId: 00000000:41:00.0)\n",
      "Device 1 : Compute Process []\n",
      "Device 1 : Graphic Process []\n",
      "Device 1 : [<pynvml.c_nvmlProcessUtilizationSample_t object at 0x7ff48852b540>, <pynvml.c_nvmlProcessUtilizationSample_t object at 0x7ff48852b3c0>, <pynvml.c_nvmlProcessUtilizationSample_t object at 0x7ff48852b5c0>, <pynvml.c_nvmlProcessUtilizationSample_t object at 0x7ff48852b6c0>, <pynvml.c_nvmlProcessUtilizationSample_t object at 0x7ff48852b9c0>, <pynvml.c_nvmlProcessUtilizationSample_t object at 0x7ff4885297c0>, <pynvml.c_nvmlProcessUtilizationSample_t object at 0x7ff489f78cc0>, <pynvml.c_nvmlProcessUtilizationSample_t object at 0x7ff489f7a9c0>, <pynvml.c_nvmlProcessUtilizationSample_t object at 0x7ff489f7acc0>, <pynvml.c_nvmlProcessUtilizationSample_t object at 0x7ff489f788c0>, <pynvml.c_nvmlProcessUtilizationSample_t object at 0x7ff489f78d40>, <pynvml.c_nvmlProcessUtilizationSample_t object at 0x7ff489f78840>, <pynvml.c_nvmlProcessUtilizationSample_t object at 0x7ff489f78e40>, <pynvml.c_nvmlProcessUtilizationSample_t object at 0x7ff489f7ac40>, <pynvml.c_nvmlProcessUtilizationSample_t object at 0x7ff489f785c0>, <pynvml.c_nvmlProcessUtilizationSample_t object at 0x7ff489f786c0>, <pynvml.c_nvmlProcessUtilizationSample_t object at 0x7ff489f78340>, <pynvml.c_nvmlProcessUtilizationSample_t object at 0x7ff489f787c0>, <pynvml.c_nvmlProcessUtilizationSample_t object at 0x7ff489f79040>, <pynvml.c_nvmlProcessUtilizationSample_t object at 0x7ff489f782c0>, <pynvml.c_nvmlProcessUtilizationSample_t object at 0x7ff489f78ec0>, <pynvml.c_nvmlProcessUtilizationSample_t object at 0x7ff489f789c0>, <pynvml.c_nvmlProcessUtilizationSample_t object at 0x7ff489f7a740>, <pynvml.c_nvmlProcessUtilizationSample_t object at 0x7ff489f7a2c0>, <pynvml.c_nvmlProcessUtilizationSample_t object at 0x7ff489f78fc0>, <pynvml.c_nvmlProcessUtilizationSample_t object at 0x7ff489f78f40>, <pynvml.c_nvmlProcessUtilizationSample_t object at 0x7ff489f78dc0>, <pynvml.c_nvmlProcessUtilizationSample_t object at 0x7ff489f78240>, <pynvml.c_nvmlProcessUtilizationSample_t object at 0x7ff489f7a440>, <pynvml.c_nvmlProcessUtilizationSample_t object at 0x7ff4881bb4c0>, <pynvml.c_nvmlProcessUtilizationSample_t object at 0x7ff4881bb8c0>, <pynvml.c_nvmlProcessUtilizationSample_t object at 0x7ff4881b9840>, <pynvml.c_nvmlProcessUtilizationSample_t object at 0x7ff4881baa40>, <pynvml.c_nvmlProcessUtilizationSample_t object at 0x7ff4881baf40>, <pynvml.c_nvmlProcessUtilizationSample_t object at 0x7ff4881bb3c0>, <pynvml.c_nvmlProcessUtilizationSample_t object at 0x7ff4881bba40>, <pynvml.c_nvmlProcessUtilizationSample_t object at 0x7ff4881bb640>, <pynvml.c_nvmlProcessUtilizationSample_t object at 0x7ff4881bb5c0>, <pynvml.c_nvmlProcessUtilizationSample_t object at 0x7ff4881bb0c0>, <pynvml.c_nvmlProcessUtilizationSample_t object at 0x7ff4881baec0>, <pynvml.c_nvmlProcessUtilizationSample_t object at 0x7ff4881ba4c0>, <pynvml.c_nvmlProcessUtilizationSample_t object at 0x7ff4881baac0>, <pynvml.c_nvmlProcessUtilizationSample_t object at 0x7ff4881bbd40>, <pynvml.c_nvmlProcessUtilizationSample_t object at 0x7ff4881ba440>, <pynvml.c_nvmlProcessUtilizationSample_t object at 0x7ff4881bb840>, <pynvml.c_nvmlProcessUtilizationSample_t object at 0x7ff4881bafc0>, <pynvml.c_nvmlProcessUtilizationSample_t object at 0x7ff4881bb540>, <pynvml.c_nvmlProcessUtilizationSample_t object at 0x7ff4881bb040>, <pynvml.c_nvmlProcessUtilizationSample_t object at 0x7ff4881bab40>, <pynvml.c_nvmlProcessUtilizationSample_t object at 0x7ff4881b8840>, <pynvml.c_nvmlProcessUtilizationSample_t object at 0x7ff4881bbb40>, <pynvml.c_nvmlProcessUtilizationSample_t object at 0x7ff4881b8940>, <pynvml.c_nvmlProcessUtilizationSample_t object at 0x7ff4881bb9c0>, <pynvml.c_nvmlProcessUtilizationSample_t object at 0x7ff4881bad40>, <pynvml.c_nvmlProcessUtilizationSample_t object at 0x7ff4881bb940>, <pynvml.c_nvmlProcessUtilizationSample_t object at 0x7ff4881bb440>, <pynvml.c_nvmlProcessUtilizationSample_t object at 0x7ff4881b9240>, <pynvml.c_nvmlProcessUtilizationSample_t object at 0x7ff4881b92c0>, <pynvml.c_nvmlProcessUtilizationSample_t object at 0x7ff4881b9d40>, <pynvml.c_nvmlProcessUtilizationSample_t object at 0x7ff4881b9e40>, <pynvml.c_nvmlProcessUtilizationSample_t object at 0x7ff4881b9940>, <pynvml.c_nvmlProcessUtilizationSample_t object at 0x7ff4881ba040>, <pynvml.c_nvmlProcessUtilizationSample_t object at 0x7ff4881ba8c0>, <pynvml.c_nvmlProcessUtilizationSample_t object at 0x7ff4881bb7c0>, <pynvml.c_nvmlProcessUtilizationSample_t object at 0x7ff4881bb6c0>, <pynvml.c_nvmlProcessUtilizationSample_t object at 0x7ff4881ba7c0>, <pynvml.c_nvmlProcessUtilizationSample_t object at 0x7ff4881bae40>, <pynvml.c_nvmlProcessUtilizationSample_t object at 0x7ff4881babc0>, <pynvml.c_nvmlProcessUtilizationSample_t object at 0x7ff4881b87c0>, <pynvml.c_nvmlProcessUtilizationSample_t object at 0x7ff4881b8b40>, <pynvml.c_nvmlProcessUtilizationSample_t object at 0x7ff4881bb340>, <pynvml.c_nvmlProcessUtilizationSample_t object at 0x7ff4881b95c0>]\n",
      "Device 1 : Shutdown temp 92\n",
      "Device 1 : Slowdown temp 89\n",
      "Device 1 : Memory temp 95 to slow down\n",
      "Device 1 : Energy consumption 6043.611446000001 kJoule\n",
      "Device 1 : PCI-E speed 16.0 Gbps\n",
      "Device 1 : PCIE TX: 0.0 MB\n",
      "Device 1 : PCIE RX: 0.0 MB\n",
      "Device 1 : PCIE Link Width: 16 %\n",
      "Device 1 : PCIE Link Gen: 4 %\n",
      "Device 1 : Gpu Cores: 6912\n",
      "Device 1 : Gpu Clock: 210/1410 MHz\n",
      "Device 1 : Memory Clock: 1593/1593 MHz\n",
      "Device 1 : SM Clock: 210/1410 MHz\n",
      "Device 2 : NVIDIA A100-SXM4-80GB\n",
      "Device 2 : 0.8/80.0 GB, 79 GB free\n",
      "Device 2 : c_nvmlUtilization_t(gpu: 0 %, memory: 0 %)\n",
      "Device 2 : Power Usage 58.644 W\n",
      "Device 2 : Temp 30 °C\n",
      "Device 2 : PCI nvmlPciInfo_t(busIdLegacy: 0000:81:00.0, domain: 0x00000000, bus: 0x81, device: 0x00, pciDeviceId: 0x20B210DE, pciSubSystemId: 0x147F10DE, busId: 00000000:81:00.0)\n",
      "Device 2 : Compute Process []\n",
      "Device 2 : Graphic Process []\n",
      "Device 2 : [<pynvml.c_nvmlProcessUtilizationSample_t object at 0x7ff48852b5c0>, <pynvml.c_nvmlProcessUtilizationSample_t object at 0x7ff48852b6c0>, <pynvml.c_nvmlProcessUtilizationSample_t object at 0x7ff48852b9c0>, <pynvml.c_nvmlProcessUtilizationSample_t object at 0x7ff4885297c0>, <pynvml.c_nvmlProcessUtilizationSample_t object at 0x7ff489f78cc0>, <pynvml.c_nvmlProcessUtilizationSample_t object at 0x7ff489f7a9c0>, <pynvml.c_nvmlProcessUtilizationSample_t object at 0x7ff489f7acc0>, <pynvml.c_nvmlProcessUtilizationSample_t object at 0x7ff489f788c0>, <pynvml.c_nvmlProcessUtilizationSample_t object at 0x7ff489f78d40>, <pynvml.c_nvmlProcessUtilizationSample_t object at 0x7ff489f78840>, <pynvml.c_nvmlProcessUtilizationSample_t object at 0x7ff489f78e40>, <pynvml.c_nvmlProcessUtilizationSample_t object at 0x7ff489f7ac40>, <pynvml.c_nvmlProcessUtilizationSample_t object at 0x7ff489f785c0>, <pynvml.c_nvmlProcessUtilizationSample_t object at 0x7ff489f786c0>, <pynvml.c_nvmlProcessUtilizationSample_t object at 0x7ff489f78340>, <pynvml.c_nvmlProcessUtilizationSample_t object at 0x7ff489f787c0>, <pynvml.c_nvmlProcessUtilizationSample_t object at 0x7ff489f79040>, <pynvml.c_nvmlProcessUtilizationSample_t object at 0x7ff489f782c0>, <pynvml.c_nvmlProcessUtilizationSample_t object at 0x7ff489f78ec0>, <pynvml.c_nvmlProcessUtilizationSample_t object at 0x7ff489f789c0>, <pynvml.c_nvmlProcessUtilizationSample_t object at 0x7ff489f7a740>, <pynvml.c_nvmlProcessUtilizationSample_t object at 0x7ff489f7a2c0>, <pynvml.c_nvmlProcessUtilizationSample_t object at 0x7ff489f78fc0>, <pynvml.c_nvmlProcessUtilizationSample_t object at 0x7ff489f78f40>, <pynvml.c_nvmlProcessUtilizationSample_t object at 0x7ff489f78dc0>, <pynvml.c_nvmlProcessUtilizationSample_t object at 0x7ff489f78240>, <pynvml.c_nvmlProcessUtilizationSample_t object at 0x7ff489f7a440>, <pynvml.c_nvmlProcessUtilizationSample_t object at 0x7ff4a44c2740>, <pynvml.c_nvmlProcessUtilizationSample_t object at 0x7ff477ea5ec0>, <pynvml.c_nvmlProcessUtilizationSample_t object at 0x7ff4881bb4c0>, <pynvml.c_nvmlProcessUtilizationSample_t object at 0x7ff4881bb8c0>, <pynvml.c_nvmlProcessUtilizationSample_t object at 0x7ff4881b9840>, <pynvml.c_nvmlProcessUtilizationSample_t object at 0x7ff4881baa40>, <pynvml.c_nvmlProcessUtilizationSample_t object at 0x7ff4881baf40>, <pynvml.c_nvmlProcessUtilizationSample_t object at 0x7ff4881bb3c0>, <pynvml.c_nvmlProcessUtilizationSample_t object at 0x7ff4881bba40>, <pynvml.c_nvmlProcessUtilizationSample_t object at 0x7ff4881bb640>, <pynvml.c_nvmlProcessUtilizationSample_t object at 0x7ff4881bb5c0>, <pynvml.c_nvmlProcessUtilizationSample_t object at 0x7ff4881bb0c0>, <pynvml.c_nvmlProcessUtilizationSample_t object at 0x7ff4881baec0>, <pynvml.c_nvmlProcessUtilizationSample_t object at 0x7ff4881ba4c0>, <pynvml.c_nvmlProcessUtilizationSample_t object at 0x7ff4881baac0>, <pynvml.c_nvmlProcessUtilizationSample_t object at 0x7ff4881bbd40>, <pynvml.c_nvmlProcessUtilizationSample_t object at 0x7ff4881ba440>, <pynvml.c_nvmlProcessUtilizationSample_t object at 0x7ff4881bb840>, <pynvml.c_nvmlProcessUtilizationSample_t object at 0x7ff4881bafc0>, <pynvml.c_nvmlProcessUtilizationSample_t object at 0x7ff4881bb540>, <pynvml.c_nvmlProcessUtilizationSample_t object at 0x7ff4881bb040>, <pynvml.c_nvmlProcessUtilizationSample_t object at 0x7ff4881bab40>, <pynvml.c_nvmlProcessUtilizationSample_t object at 0x7ff4881b8840>, <pynvml.c_nvmlProcessUtilizationSample_t object at 0x7ff4881bbb40>, <pynvml.c_nvmlProcessUtilizationSample_t object at 0x7ff4881b8940>, <pynvml.c_nvmlProcessUtilizationSample_t object at 0x7ff4881bb9c0>, <pynvml.c_nvmlProcessUtilizationSample_t object at 0x7ff4881bad40>, <pynvml.c_nvmlProcessUtilizationSample_t object at 0x7ff4881bb940>, <pynvml.c_nvmlProcessUtilizationSample_t object at 0x7ff4881bb440>, <pynvml.c_nvmlProcessUtilizationSample_t object at 0x7ff4881b9240>, <pynvml.c_nvmlProcessUtilizationSample_t object at 0x7ff4881b92c0>, <pynvml.c_nvmlProcessUtilizationSample_t object at 0x7ff4881b9d40>, <pynvml.c_nvmlProcessUtilizationSample_t object at 0x7ff4881b9e40>, <pynvml.c_nvmlProcessUtilizationSample_t object at 0x7ff4881b9940>, <pynvml.c_nvmlProcessUtilizationSample_t object at 0x7ff4881ba040>, <pynvml.c_nvmlProcessUtilizationSample_t object at 0x7ff4881ba8c0>, <pynvml.c_nvmlProcessUtilizationSample_t object at 0x7ff4881bb7c0>, <pynvml.c_nvmlProcessUtilizationSample_t object at 0x7ff4881bb6c0>, <pynvml.c_nvmlProcessUtilizationSample_t object at 0x7ff4881ba7c0>, <pynvml.c_nvmlProcessUtilizationSample_t object at 0x7ff4881bae40>, <pynvml.c_nvmlProcessUtilizationSample_t object at 0x7ff4881babc0>, <pynvml.c_nvmlProcessUtilizationSample_t object at 0x7ff4881b87c0>, <pynvml.c_nvmlProcessUtilizationSample_t object at 0x7ff4881b8b40>, <pynvml.c_nvmlProcessUtilizationSample_t object at 0x7ff4881bb340>, <pynvml.c_nvmlProcessUtilizationSample_t object at 0x7ff4881b95c0>]\n",
      "Device 2 : Shutdown temp 92\n",
      "Device 2 : Slowdown temp 89\n",
      "Device 2 : Memory temp 95 to slow down\n",
      "Device 2 : Energy consumption 5913.622455 kJoule\n",
      "Device 2 : PCI-E speed 16.0 Gbps\n",
      "Device 2 : PCIE TX: 0.0 MB\n",
      "Device 2 : PCIE RX: 0.0 MB\n",
      "Device 2 : PCIE Link Width: 16 %\n",
      "Device 2 : PCIE Link Gen: 4 %\n",
      "Device 2 : Gpu Cores: 6912\n",
      "Device 2 : Gpu Clock: 210/1410 MHz\n",
      "Device 2 : Memory Clock: 1593/1593 MHz\n",
      "Device 2 : SM Clock: 210/1410 MHz\n",
      "Device 3 : NVIDIA A100-SXM4-80GB\n",
      "Device 3 : 0.8/80.0 GB, 79 GB free\n",
      "Device 3 : c_nvmlUtilization_t(gpu: 0 %, memory: 0 %)\n",
      "Device 3 : Power Usage 57.149 W\n",
      "Device 3 : Temp 28 °C\n",
      "Device 3 : PCI nvmlPciInfo_t(busIdLegacy: 0000:C1:00.0, domain: 0x00000000, bus: 0xC1, device: 0x00, pciDeviceId: 0x20B210DE, pciSubSystemId: 0x147F10DE, busId: 00000000:C1:00.0)\n",
      "Device 3 : Compute Process []\n",
      "Device 3 : Graphic Process []\n",
      "Device 3 : [<pynvml.c_nvmlProcessUtilizationSample_t object at 0x7ff489f78840>, <pynvml.c_nvmlProcessUtilizationSample_t object at 0x7ff489f78e40>, <pynvml.c_nvmlProcessUtilizationSample_t object at 0x7ff489f7ac40>, <pynvml.c_nvmlProcessUtilizationSample_t object at 0x7ff489f785c0>, <pynvml.c_nvmlProcessUtilizationSample_t object at 0x7ff489f786c0>, <pynvml.c_nvmlProcessUtilizationSample_t object at 0x7ff489f78340>, <pynvml.c_nvmlProcessUtilizationSample_t object at 0x7ff489f787c0>, <pynvml.c_nvmlProcessUtilizationSample_t object at 0x7ff489f79040>, <pynvml.c_nvmlProcessUtilizationSample_t object at 0x7ff489f782c0>, <pynvml.c_nvmlProcessUtilizationSample_t object at 0x7ff489f78ec0>, <pynvml.c_nvmlProcessUtilizationSample_t object at 0x7ff489f789c0>, <pynvml.c_nvmlProcessUtilizationSample_t object at 0x7ff489f7a740>, <pynvml.c_nvmlProcessUtilizationSample_t object at 0x7ff489f7a2c0>, <pynvml.c_nvmlProcessUtilizationSample_t object at 0x7ff489f78fc0>, <pynvml.c_nvmlProcessUtilizationSample_t object at 0x7ff489f78f40>, <pynvml.c_nvmlProcessUtilizationSample_t object at 0x7ff489f78dc0>, <pynvml.c_nvmlProcessUtilizationSample_t object at 0x7ff489f78240>, <pynvml.c_nvmlProcessUtilizationSample_t object at 0x7ff489f7a440>, <pynvml.c_nvmlProcessUtilizationSample_t object at 0x7ff4a44c2740>, <pynvml.c_nvmlProcessUtilizationSample_t object at 0x7ff477ea5ec0>, <pynvml.c_nvmlProcessUtilizationSample_t object at 0x7ff48852bac0>, <pynvml.c_nvmlProcessUtilizationSample_t object at 0x7ff48852be40>, <pynvml.c_nvmlProcessUtilizationSample_t object at 0x7ff48852b5c0>, <pynvml.c_nvmlProcessUtilizationSample_t object at 0x7ff48852b3c0>, <pynvml.c_nvmlProcessUtilizationSample_t object at 0x7ff48852b6c0>, <pynvml.c_nvmlProcessUtilizationSample_t object at 0x7ff48852b9c0>, <pynvml.c_nvmlProcessUtilizationSample_t object at 0x7ff4885297c0>, <pynvml.c_nvmlProcessUtilizationSample_t object at 0x7ff48852b540>, <pynvml.c_nvmlProcessUtilizationSample_t object at 0x7ff477e96740>, <pynvml.c_nvmlProcessUtilizationSample_t object at 0x7ff4881bb4c0>, <pynvml.c_nvmlProcessUtilizationSample_t object at 0x7ff4881bb8c0>, <pynvml.c_nvmlProcessUtilizationSample_t object at 0x7ff4881b9840>, <pynvml.c_nvmlProcessUtilizationSample_t object at 0x7ff4881baa40>, <pynvml.c_nvmlProcessUtilizationSample_t object at 0x7ff4881baf40>, <pynvml.c_nvmlProcessUtilizationSample_t object at 0x7ff4881bb3c0>, <pynvml.c_nvmlProcessUtilizationSample_t object at 0x7ff4881bba40>, <pynvml.c_nvmlProcessUtilizationSample_t object at 0x7ff4881bb640>, <pynvml.c_nvmlProcessUtilizationSample_t object at 0x7ff4881bb5c0>, <pynvml.c_nvmlProcessUtilizationSample_t object at 0x7ff4881bb0c0>, <pynvml.c_nvmlProcessUtilizationSample_t object at 0x7ff4881baec0>, <pynvml.c_nvmlProcessUtilizationSample_t object at 0x7ff4881ba4c0>, <pynvml.c_nvmlProcessUtilizationSample_t object at 0x7ff4881baac0>, <pynvml.c_nvmlProcessUtilizationSample_t object at 0x7ff4881bbd40>, <pynvml.c_nvmlProcessUtilizationSample_t object at 0x7ff4881ba440>, <pynvml.c_nvmlProcessUtilizationSample_t object at 0x7ff4881bb840>, <pynvml.c_nvmlProcessUtilizationSample_t object at 0x7ff4881bafc0>, <pynvml.c_nvmlProcessUtilizationSample_t object at 0x7ff4881bb540>, <pynvml.c_nvmlProcessUtilizationSample_t object at 0x7ff4881bb040>, <pynvml.c_nvmlProcessUtilizationSample_t object at 0x7ff4881bab40>, <pynvml.c_nvmlProcessUtilizationSample_t object at 0x7ff4881b8840>, <pynvml.c_nvmlProcessUtilizationSample_t object at 0x7ff4881bbb40>, <pynvml.c_nvmlProcessUtilizationSample_t object at 0x7ff4881b8940>, <pynvml.c_nvmlProcessUtilizationSample_t object at 0x7ff4881bb9c0>, <pynvml.c_nvmlProcessUtilizationSample_t object at 0x7ff4881bad40>, <pynvml.c_nvmlProcessUtilizationSample_t object at 0x7ff4881bb940>, <pynvml.c_nvmlProcessUtilizationSample_t object at 0x7ff4881bb440>, <pynvml.c_nvmlProcessUtilizationSample_t object at 0x7ff4881b9240>, <pynvml.c_nvmlProcessUtilizationSample_t object at 0x7ff4881b92c0>, <pynvml.c_nvmlProcessUtilizationSample_t object at 0x7ff4881b9d40>, <pynvml.c_nvmlProcessUtilizationSample_t object at 0x7ff4881b9e40>, <pynvml.c_nvmlProcessUtilizationSample_t object at 0x7ff4881b9940>, <pynvml.c_nvmlProcessUtilizationSample_t object at 0x7ff4881ba040>, <pynvml.c_nvmlProcessUtilizationSample_t object at 0x7ff4881ba8c0>, <pynvml.c_nvmlProcessUtilizationSample_t object at 0x7ff4881bb7c0>, <pynvml.c_nvmlProcessUtilizationSample_t object at 0x7ff4881bb6c0>, <pynvml.c_nvmlProcessUtilizationSample_t object at 0x7ff4881ba7c0>, <pynvml.c_nvmlProcessUtilizationSample_t object at 0x7ff4881bae40>, <pynvml.c_nvmlProcessUtilizationSample_t object at 0x7ff4881babc0>, <pynvml.c_nvmlProcessUtilizationSample_t object at 0x7ff4881b87c0>, <pynvml.c_nvmlProcessUtilizationSample_t object at 0x7ff4881b8b40>, <pynvml.c_nvmlProcessUtilizationSample_t object at 0x7ff4881bb340>, <pynvml.c_nvmlProcessUtilizationSample_t object at 0x7ff4881b95c0>]\n",
      "Device 3 : Shutdown temp 92\n",
      "Device 3 : Slowdown temp 89\n",
      "Device 3 : Memory temp 95 to slow down\n",
      "Device 3 : Energy consumption 9978.326354 kJoule\n",
      "Device 3 : PCI-E speed 16.0 Gbps\n",
      "Device 3 : PCIE TX: 0.0 MB\n",
      "Device 3 : PCIE RX: 0.0 MB\n",
      "Device 3 : PCIE Link Width: 16 %\n",
      "Device 3 : PCIE Link Gen: 4 %\n",
      "Device 3 : Gpu Cores: 6912\n",
      "Device 3 : Gpu Clock: 210/1410 MHz\n",
      "Device 3 : Memory Clock: 1593/1593 MHz\n",
      "Device 3 : SM Clock: 210/1410 MHz\n"
     ]
    },
    {
     "data": {
      "text/plain": [
       "'/home/junyi/miniconda3/bin/python'"
      ]
     },
     "execution_count": 69,
     "metadata": {},
     "output_type": "execute_result"
    }
   ],
   "source": [
    "for i in range(deviceCount):\n",
    "    handle = nvmlDeviceGetHandleByIndex(i)\n",
    "    \n",
    "\n",
    "    memory = nvmlDeviceGetMemoryInfo(handle)\n",
    "    \n",
    "    print(f\"Device {i} : {nvmlDeviceGetName(handle)}\")\n",
    "    print(f\"Device {i} : {round(memory.used / 1024/1024/1024, 1)}/{round(memory.total / 1024 / 1024 / 1024, 1)} GB, {round(memory.free / 1024**3)} GB free\")\n",
    "    print(f\"Device {i} : {nvmlDeviceGetUtilizationRates(handle)}\")\n",
    "    print(f\"Device {i} : Power Usage {nvmlDeviceGetPowerUsage(handle)/1000} W\")\n",
    "    print(f\"Device {i} : Temp {nvmlDeviceGetTemperature(handle, NVML_TEMPERATURE_GPU)} °C\")\n",
    "    print(f\"Device {i} : PCI {nvmlDeviceGetPciInfo(handle)}\")\n",
    "    print(f\"Device {i} : Compute Process {nvmlDeviceGetComputeRunningProcesses(handle)}\")\n",
    "    print(f\"Device {i} : Graphic Process {nvmlDeviceGetGraphicsRunningProcesses(handle)}\")\n",
    "    print(f\"Device {i} : {nvmlDeviceGetProcessUtilization(handle, 0)}\")\n",
    "    print(f\"Device {i} : Shutdown temp {nvmlDeviceGetTemperatureThreshold(handle, 0)}\")\n",
    "    print(f\"Device {i} : Slowdown temp {nvmlDeviceGetTemperatureThreshold(handle, 1)}\")\n",
    "    print(f\"Device {i} : Memory temp {nvmlDeviceGetTemperatureThreshold(handle, 2)} to slow down\")\n",
    "    print(f\"Device {i} : Energy consumption {nvmlDeviceGetTotalEnergyConsumption(handle)/1000/1000} kJoule\")\n",
    "    print(f\"Device {i} : PCI-E speed { nvmlDeviceGetPcieSpeed(handle)/1000 } Gbps\")\n",
    "    print(f\"Device {i} : PCIE TX: {nvmlDeviceGetPcieThroughput(handle, NVML_PCIE_UTIL_TX_BYTES)/1024/1024} MB\")\n",
    "    print(f\"Device {i} : PCIE RX: {nvmlDeviceGetPcieThroughput(handle, NVML_PCIE_UTIL_RX_BYTES)/1024/1024} MB\")\n",
    "    print(f\"Device {i} : PCIE Link Width: {nvmlDeviceGetCurrPcieLinkWidth(handle)} %\")\n",
    "    print(f\"Device {i} : PCIE Link Gen: {nvmlDeviceGetCurrPcieLinkGeneration(handle)} %\")\n",
    "    print(f\"Device {i} : Gpu Cores: {nvmlDeviceGetNumGpuCores(handle)}\")\n",
    "    print(f\"Device {i} : Gpu Clock: {nvmlDeviceGetClockInfo(handle, NVML_CLOCK_GRAPHICS)}/{nvmlDeviceGetMaxClockInfo(handle, NVML_CLOCK_GRAPHICS)} MHz\")\n",
    "    print(f\"Device {i} : Memory Clock: {nvmlDeviceGetClockInfo(handle, NVML_CLOCK_MEM)}/{nvmlDeviceGetMaxClockInfo(handle, NVML_CLOCK_MEM)} MHz\")\n",
    "    \n",
    "pid = 367537\n",
    "nvmlSystemGetProcessName(pid)\n"
   ]
  }
 ],
 "metadata": {
  "kernelspec": {
   "display_name": "base",
   "language": "python",
   "name": "python3"
  },
  "language_info": {
   "codemirror_mode": {
    "name": "ipython",
    "version": 3
   },
   "file_extension": ".py",
   "mimetype": "text/x-python",
   "name": "python",
   "nbconvert_exporter": "python",
   "pygments_lexer": "ipython3",
   "version": "3.10.9"
  },
  "orig_nbformat": 4
 },
 "nbformat": 4,
 "nbformat_minor": 2
}
